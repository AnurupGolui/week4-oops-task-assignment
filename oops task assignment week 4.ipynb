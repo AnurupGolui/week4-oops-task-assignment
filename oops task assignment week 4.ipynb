{
 "cells": [
  {
   "cell_type": "code",
   "execution_count": null,
   "id": "0310bf53-ca6a-4f6a-a812-b16d2d22cece",
   "metadata": {},
   "outputs": [],
   "source": [
    "Q1, Create a vehicle class with an init method having instance variables as name_of_vehicle, max_speed \n",
    "and average_of_vehicle. "
   ]
  },
  {
   "cell_type": "code",
   "execution_count": 22,
   "id": "90c8878a-3c42-4a20-9f9f-518540128635",
   "metadata": {},
   "outputs": [],
   "source": [
    "class  vehicle:\n",
    "    def __init__(self, name_of_vehicle, max_speed, average_of_vehicle):\n",
    "        self.name_of_vehicle=name_of_vehicle\n",
    "        self.max_speed=max_speed\n",
    "        self.average_of_vehicle=average_of_vehicle\n",
    "        \n",
    "    def return_car_name(self):\n",
    "        return self.name_of_vehicle\n",
    "        \n",
    "        "
   ]
  },
  {
   "cell_type": "code",
   "execution_count": null,
   "id": "1407d4e1-ffe7-4b42-86ed-b5a7c487ddf6",
   "metadata": {},
   "outputs": [],
   "source": [
    "Q2.  Create a child class car from the vehicle class created in Que 1, which will inherit the vehicle class. \n",
    "Create a method named seating_capacity which takes capacity as an argument and returns the name of \n",
    "the vehicle and its seating capacity."
   ]
  },
  {
   "cell_type": "code",
   "execution_count": 26,
   "id": "4c221d80-5fd6-4071-86bb-c555c5ddcfc2",
   "metadata": {},
   "outputs": [],
   "source": [
    "class car(vehicle):\n",
    "    def seating_capacity(self,capacity):\n",
    "        return 'name of the vehicle ',vehicle.return_car_name(self) ,'the seating capacity is ' ,capacity"
   ]
  },
  {
   "cell_type": "code",
   "execution_count": 27,
   "id": "d701870a-dbdf-456d-8629-cd0419c37c16",
   "metadata": {},
   "outputs": [],
   "source": [
    "bmw=car('BMW',200,23)"
   ]
  },
  {
   "cell_type": "code",
   "execution_count": 28,
   "id": "a9d763a4-f90e-4451-8bdb-7fd86caa4423",
   "metadata": {},
   "outputs": [
    {
     "data": {
      "text/plain": [
       "('name of the vehicle ', 'BMW', 'the seating capacity is ', 4)"
      ]
     },
     "execution_count": 28,
     "metadata": {},
     "output_type": "execute_result"
    }
   ],
   "source": [
    "bmw.seating_capacity(4)"
   ]
  },
  {
   "cell_type": "code",
   "execution_count": null,
   "id": "3bc22fd2-b837-45e9-b8f1-8728316a04a7",
   "metadata": {},
   "outputs": [],
   "source": [
    "Q3. What is multiple inheritance? Write a python code to demonstrate multiple inheritance."
   ]
  },
  {
   "cell_type": "code",
   "execution_count": null,
   "id": "7a7343b8-26bd-454d-87cc-9abdc4d44817",
   "metadata": {},
   "outputs": [],
   "source": [
    "ans. When a class is derived from more than one base class it is called multiple Inheritance.\n"
   ]
  },
  {
   "cell_type": "code",
   "execution_count": 2,
   "id": "938ffb67-a096-4769-8244-891e4c1a5b7e",
   "metadata": {},
   "outputs": [],
   "source": [
    "# Demonestrate multiple inheritance\n",
    "class parent1:\n",
    "    def child1(self):\n",
    "        return 'from class parent1'"
   ]
  },
  {
   "cell_type": "code",
   "execution_count": 3,
   "id": "7ff03f10-75ae-4b9e-b447-6ce313c8220a",
   "metadata": {},
   "outputs": [],
   "source": [
    "class parent2:\n",
    "    def child2(self):\n",
    "        return 'from class perent2'"
   ]
  },
  {
   "cell_type": "code",
   "execution_count": 4,
   "id": "5d20dd6a-c67d-4461-944c-894fb5c869dd",
   "metadata": {},
   "outputs": [],
   "source": [
    "class parent3(parent1,parent2):\n",
    "    def child3(self):\n",
    "        return 'from class parent3'"
   ]
  },
  {
   "cell_type": "code",
   "execution_count": 5,
   "id": "134c2b2d-35f1-42d1-be65-2f372f304e7b",
   "metadata": {},
   "outputs": [],
   "source": [
    "joy=parent3()"
   ]
  },
  {
   "cell_type": "code",
   "execution_count": 6,
   "id": "f3283e0e-7fb6-4883-8496-0d9e7fb387a9",
   "metadata": {},
   "outputs": [
    {
     "data": {
      "text/plain": [
       "'from class parent1'"
      ]
     },
     "execution_count": 6,
     "metadata": {},
     "output_type": "execute_result"
    }
   ],
   "source": [
    "joy.child1()"
   ]
  },
  {
   "cell_type": "code",
   "execution_count": 7,
   "id": "c2331b87-3ef7-4a95-89eb-527aa5accd61",
   "metadata": {},
   "outputs": [
    {
     "data": {
      "text/plain": [
       "'from class perent2'"
      ]
     },
     "execution_count": 7,
     "metadata": {},
     "output_type": "execute_result"
    }
   ],
   "source": [
    "joy.child2()"
   ]
  },
  {
   "cell_type": "code",
   "execution_count": 8,
   "id": "8d79d004-3c28-404a-bc5f-393bd568f804",
   "metadata": {},
   "outputs": [
    {
     "data": {
      "text/plain": [
       "'from class parent3'"
      ]
     },
     "execution_count": 8,
     "metadata": {},
     "output_type": "execute_result"
    }
   ],
   "source": [
    "joy.child3()"
   ]
  },
  {
   "cell_type": "code",
   "execution_count": null,
   "id": "274e1395-555a-4122-9449-9958999c658b",
   "metadata": {},
   "outputs": [],
   "source": [
    "Q4. What are getter and setter in python? Create a class and create a getter and a setter method in this \n",
    "class."
   ]
  },
  {
   "cell_type": "code",
   "execution_count": null,
   "id": "ea4c1f54-4448-479d-a635-26986df4822d",
   "metadata": {},
   "outputs": [],
   "source": [
    "Getter: A method that allows you to access an attribute in a given class.\n",
    "Setter: A method that allows you to set or mutate the value of an attribute in a class"
   ]
  },
  {
   "cell_type": "code",
   "execution_count": 62,
   "id": "0926a382-e07f-4c9a-85c0-c8229d6a7bba",
   "metadata": {},
   "outputs": [],
   "source": [
    "class student_details:\n",
    "    def __init__(self,student_name,age,student_id):\n",
    "        self.__student_name=student_name\n",
    "        self.__age=age\n",
    "        self.__student_id=student_id\n",
    "        \n",
    "    #getter method\n",
    "    @property\n",
    "    def get_details(self):\n",
    "        return self.__student_name,self.__age,self.__student_id\n",
    "    \n",
    "    #setter method\n",
    "    @get_details.setter\n",
    "    def set_student_name(self,student_name):\n",
    "        self.__student_name=student_name\n",
    "        "
   ]
  },
  {
   "cell_type": "code",
   "execution_count": 63,
   "id": "b8663e2c-2259-4064-9d66-0ec4021f6869",
   "metadata": {},
   "outputs": [],
   "source": [
    "rohan=student_details('Rohan Ghosh',23,100)"
   ]
  },
  {
   "cell_type": "code",
   "execution_count": 64,
   "id": "a41933ac-b207-4545-84ae-81e4288ecc0c",
   "metadata": {},
   "outputs": [
    {
     "data": {
      "text/plain": [
       "('Rohan Ghosh', 23, 100)"
      ]
     },
     "execution_count": 64,
     "metadata": {},
     "output_type": "execute_result"
    }
   ],
   "source": [
    "rohan.get_details"
   ]
  },
  {
   "cell_type": "code",
   "execution_count": 65,
   "id": "3f9bddee-8431-4fef-a33b-647da45a5091",
   "metadata": {},
   "outputs": [],
   "source": [
    "rohan.set_student_name='Rohan Mondal'"
   ]
  },
  {
   "cell_type": "code",
   "execution_count": 61,
   "id": "f842f775-63e7-4abe-909b-07767c54813b",
   "metadata": {},
   "outputs": [
    {
     "data": {
      "text/plain": [
       "('Rohan Mondal', 23, 100)"
      ]
     },
     "execution_count": 61,
     "metadata": {},
     "output_type": "execute_result"
    }
   ],
   "source": [
    "rohan.get_details"
   ]
  },
  {
   "cell_type": "code",
   "execution_count": null,
   "id": "dc00155a-dfbf-4107-98f1-0573cc465e55",
   "metadata": {},
   "outputs": [],
   "source": [
    "Q5.What is method overriding in python? Write a python code to demonstrate method overriding."
   ]
  },
  {
   "cell_type": "code",
   "execution_count": null,
   "id": "b66b0673-f0fc-4622-b65d-15e010c5dd05",
   "metadata": {},
   "outputs": [],
   "source": [
    "Method overriding is a feature of object-oriented programming languages where the subclass or child class can provide \n",
    "the program with specific characteristics or a specific implementation process of data provided that are already defined \n",
    "in the parent class or superclass."
   ]
  },
  {
   "cell_type": "code",
   "execution_count": 18,
   "id": "91ac907d-7503-4be4-ac02-ec68604546d9",
   "metadata": {},
   "outputs": [],
   "source": [
    "class parent1:\n",
    "    def child1(self):\n",
    "        return 'from parent1'\n",
    "    \n",
    "class parent2:\n",
    "    def child2(self):\n",
    "        return 'from parent2'\n",
    "class parent3(parent1,parent2):\n",
    "    def child1(self):\n",
    "        return 'from parenrt3'"
   ]
  },
  {
   "cell_type": "code",
   "execution_count": 19,
   "id": "5bb4d42b-3925-4bba-ba1d-3c4a79c7f950",
   "metadata": {},
   "outputs": [],
   "source": [
    "joy=parent3()"
   ]
  },
  {
   "cell_type": "code",
   "execution_count": 22,
   "id": "7c89a67c-9b23-472b-bbf2-9f41f68ce7b9",
   "metadata": {},
   "outputs": [
    {
     "data": {
      "text/plain": [
       "'from parenrt3'"
      ]
     },
     "execution_count": 22,
     "metadata": {},
     "output_type": "execute_result"
    }
   ],
   "source": [
    "joy.child1() # overriding"
   ]
  },
  {
   "cell_type": "code",
   "execution_count": 23,
   "id": "928517f7-c6e1-4d9f-aa31-d235aa890f36",
   "metadata": {},
   "outputs": [
    {
     "data": {
      "text/plain": [
       "'from parent2'"
      ]
     },
     "execution_count": 23,
     "metadata": {},
     "output_type": "execute_result"
    }
   ],
   "source": [
    "joy.child2()"
   ]
  },
  {
   "cell_type": "code",
   "execution_count": null,
   "id": "e25dd9f6-689f-4c00-949b-5b602618fe5b",
   "metadata": {},
   "outputs": [],
   "source": []
  }
 ],
 "metadata": {
  "kernelspec": {
   "display_name": "Python 3 (ipykernel)",
   "language": "python",
   "name": "python3"
  },
  "language_info": {
   "codemirror_mode": {
    "name": "ipython",
    "version": 3
   },
   "file_extension": ".py",
   "mimetype": "text/x-python",
   "name": "python",
   "nbconvert_exporter": "python",
   "pygments_lexer": "ipython3",
   "version": "3.10.8"
  }
 },
 "nbformat": 4,
 "nbformat_minor": 5
}
